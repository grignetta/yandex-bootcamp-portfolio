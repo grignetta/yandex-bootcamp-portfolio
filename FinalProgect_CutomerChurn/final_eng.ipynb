{
 "cells": [
  {
   "cell_type": "code",
   "execution_count": null,
   "metadata": {},
   "outputs": [],
   "source": []
  }
 ],
 "metadata": {
  "kernelspec": {
   "display_name": "base",
   "language": "python",
   "name": "python3"
  },
  "language_info": {
   "name": "python",
   "version": "3.9.7 (default, Sep 16 2021, 16:59:28) [MSC v.1916 64 bit (AMD64)]"
  },
  "orig_nbformat": 4,
  "vscode": {
   "interpreter": {
    "hash": "bcc616644b9faea6decbe1379edc5770c98fb1eeb5b3afa361c53e6f360def0d"
   }
  }
 },
 "nbformat": 4,
 "nbformat_minor": 2
}
