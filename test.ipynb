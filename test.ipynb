{
 "cells": [
  {
   "cell_type": "markdown",
   "metadata": {},
   "source": [
    "**Комментарий ревьюера**\n",
    "\n",
    "Дарья , привет! Меня зовут Сергей Волков, я буду проверять твой проект. Если не против, давай общаться на «ты». Если это неудобно, дай знать, перейдем на «вы».\n",
    "\n",
    "У тебя уже проделана большая работа над проектом, но давай сделаем его еще лучше. Дальше ты найдешь мои комментарии — пожалуйста, не перемещай и не удаляй их. Буду использовать цветовую разметку:\n",
    "\n",
    "<div class=\"alert alert-danger\">\n",
    "<b>Комментарий ревьюера:</b>  ❌красный текст - так выделены самые важные замечания. Без их отработки проект не будет принят. </div>\n",
    "\n",
    "<div class=\"alert alert-warning\">\n",
    "<b>Комментарий ревьюера:</b>⚠️оранжевый текст - есть рекомендации, на что стоит обратить внимание. Так выделены небольшие замечания. Одно-два таких замечания в проекте допустимы, но если их будет больше - тебе будет необходимо внести исправления. </div>\n",
    "\n",
    "<div class=\"alert alert-success\">\n",
    "<b>Комментарий ревьюера:</b> ✔️зеленый текст - все отлично.</div>\n",
    "\n",
    "Давай работать над проектом в диалоге: если что-то меняешь в проекте или отвечаешь на мои комментарии — пиши об этом. Мне будет легче отследить изменения, если ты выделишь свои комментарии:\n",
    "<div class=\"alert alert-info\"> <b>Комментарий студента:</b> Например, вот так.</div>\n",
    "\n",
    "Всё это поможет выполнить повторную проверку твоего проекта оперативнее. "
   ]
  },
  {
   "cell_type": "markdown",
   "metadata": {},
   "source": [
    "<div class=\"alert alert-block alert-info\">\n",
    "<b>Комментарий студента:</b> Привет Сергей! спасибо за проверку моего проекта. Что-то исправила, что-то доделаю после еще одной проверки. Жду ответы на мои комменты:)\n",
    "</div>"
   ]
  },
  {
   "cell_type": "markdown",
   "metadata": {},
   "source": [
    "\n",
    "<div class=\"alert alert-success\">\n",
    "<b>Комментарий ревьюера v.3:</b> ✔️Снова привет!).</div>"
   ]
  },
  {
   "cell_type": "markdown",
   "metadata": {
    "toc": true
   },
   "source": [
    "<h1>Содержание<span class=\"tocSkip\"></span></h1>\n",
    "<div class=\"toc\"><ul class=\"toc-item\"><li><span><a href=\"#Подготовка\" data-toc-modified-id=\"Подготовка-1\"><span class=\"toc-item-num\">1&nbsp;&nbsp;</span>Подготовка</a></span></li><li><span><a href=\"#Анализ\" data-toc-modified-id=\"Анализ-2\"><span class=\"toc-item-num\">2&nbsp;&nbsp;</span>Анализ</a></span></li><li><span><a href=\"#Обучение\" data-toc-modified-id=\"Обучение-3\"><span class=\"toc-item-num\">3&nbsp;&nbsp;</span>Обучение</a></span><ul class=\"toc-item\"><li><span><a href=\"#Линейная-регрессия\" data-toc-modified-id=\"Линейная-регрессия-3.1\"><span class=\"toc-item-num\">3.1&nbsp;&nbsp;</span>Линейная регрессия</a></span></li><li><span><a href=\"#Случайный-лес\" data-toc-modified-id=\"Случайный-лес-3.2\"><span class=\"toc-item-num\">3.2&nbsp;&nbsp;</span>Случайный лес</a></span></li><li><span><a href=\"#Дерево-решений\" data-toc-modified-id=\"Дерево-решений-3.3\"><span class=\"toc-item-num\">3.3&nbsp;&nbsp;</span>Дерево решений</a></span></li></ul></li><li><span><a href=\"#Тестирование\" data-toc-modified-id=\"Тестирование-4\"><span class=\"toc-item-num\">4&nbsp;&nbsp;</span>Тестирование</a></span></li><li><span><a href=\"#Чек-лист-проверки\" data-toc-modified-id=\"Чек-лист-проверки-5\"><span class=\"toc-item-num\">5&nbsp;&nbsp;</span>Чек-лист проверки</a></span></li></ul></div>"
   ]
  },
  {
   "cell_type": "markdown",
   "metadata": {},
   "source": [
    "#  Прогнозирование заказов такси"
   ]
  },
  {
   "cell_type": "markdown",
   "metadata": {},
   "source": [
    "Компания «Чётенькое такси» собрала исторические данные о заказах такси в аэропортах. Чтобы привлекать больше водителей в период пиковой нагрузки, нужно спрогнозировать количество заказов такси на следующий час. Постройте модель для такого предсказания.\n",
    "\n",
    "Значение метрики *RMSE* на тестовой выборке должно быть не больше 48.\n",
    "\n",
    "Вам нужно:\n",
    "\n",
    "1. Загрузить данные и выполнить их ресемплирование по одному часу.\n",
    "2. Проанализировать данные.\n",
    "3. Обучить разные модели с различными гиперпараметрами. Сделать тестовую выборку размером 10% от исходных данных.\n",
    "4. Проверить данные на тестовой выборке и сделать выводы.\n",
    "\n",
    "\n",
    "Данные лежат в файле `taxi.csv`. Количество заказов находится в столбце `num_orders` (от англ. *number of orders*, «число заказов»)."
   ]
  },
  {
   "cell_type": "markdown",
   "metadata": {},
   "source": [
    "<div class=\"alert alert-success\">\n",
    "<b>Комментарий ревьюера:</b> ✔️Отлично. Хорошо, когда всместе с названием есть цель проекта. </div>"
   ]
  },
  {
   "cell_type": "markdown",
   "metadata": {},
   "source": [
    "## Подготовка"
   ]
  },
  {
   "cell_type": "markdown",
   "metadata": {},
   "source": [
    "Загрузим данные."
   ]
  },
  {
   "cell_type": "code",
   "execution_count": 23,
   "metadata": {
    "scrolled": false
   },
   "outputs": [
    {
     "name": "stdout",
     "output_type": "stream",
     "text": [
      "<class 'pandas.core.frame.DataFrame'>\n",
      "DatetimeIndex: 26496 entries, 2018-03-01 00:00:00 to 2018-08-31 23:50:00\n",
      "Data columns (total 1 columns):\n",
      " #   Column      Non-Null Count  Dtype\n",
      "---  ------      --------------  -----\n",
      " 0   num_orders  26496 non-null  int64\n",
      "dtypes: int64(1)\n",
      "memory usage: 414.0 KB\n",
      "None\n"
     ]
    },
    {
     "data": {
      "text/html": [
       "<div>\n",
       "<style scoped>\n",
       "    .dataframe tbody tr th:only-of-type {\n",
       "        vertical-align: middle;\n",
       "    }\n",
       "\n",
       "    .dataframe tbody tr th {\n",
       "        vertical-align: top;\n",
       "    }\n",
       "\n",
       "    .dataframe thead th {\n",
       "        text-align: right;\n",
       "    }\n",
       "</style>\n",
       "<table border=\"1\" class=\"dataframe\">\n",
       "  <thead>\n",
       "    <tr style=\"text-align: right;\">\n",
       "      <th></th>\n",
       "      <th>num_orders</th>\n",
       "    </tr>\n",
       "    <tr>\n",
       "      <th>datetime</th>\n",
       "      <th></th>\n",
       "    </tr>\n",
       "  </thead>\n",
       "  <tbody>\n",
       "    <tr>\n",
       "      <th>2018-03-01 00:00:00</th>\n",
       "      <td>9</td>\n",
       "    </tr>\n",
       "    <tr>\n",
       "      <th>2018-03-01 00:10:00</th>\n",
       "      <td>14</td>\n",
       "    </tr>\n",
       "    <tr>\n",
       "      <th>2018-03-01 00:20:00</th>\n",
       "      <td>28</td>\n",
       "    </tr>\n",
       "    <tr>\n",
       "      <th>2018-03-01 00:30:00</th>\n",
       "      <td>20</td>\n",
       "    </tr>\n",
       "    <tr>\n",
       "      <th>2018-03-01 00:40:00</th>\n",
       "      <td>32</td>\n",
       "    </tr>\n",
       "    <tr>\n",
       "      <th>2018-03-01 00:50:00</th>\n",
       "      <td>21</td>\n",
       "    </tr>\n",
       "    <tr>\n",
       "      <th>2018-03-01 01:00:00</th>\n",
       "      <td>7</td>\n",
       "    </tr>\n",
       "    <tr>\n",
       "      <th>2018-03-01 01:10:00</th>\n",
       "      <td>5</td>\n",
       "    </tr>\n",
       "    <tr>\n",
       "      <th>2018-03-01 01:20:00</th>\n",
       "      <td>17</td>\n",
       "    </tr>\n",
       "    <tr>\n",
       "      <th>2018-03-01 01:30:00</th>\n",
       "      <td>12</td>\n",
       "    </tr>\n",
       "  </tbody>\n",
       "</table>\n",
       "</div>"
      ],
      "text/plain": [
       "                     num_orders\n",
       "datetime                       \n",
       "2018-03-01 00:00:00           9\n",
       "2018-03-01 00:10:00          14\n",
       "2018-03-01 00:20:00          28\n",
       "2018-03-01 00:30:00          20\n",
       "2018-03-01 00:40:00          32\n",
       "2018-03-01 00:50:00          21\n",
       "2018-03-01 01:00:00           7\n",
       "2018-03-01 01:10:00           5\n",
       "2018-03-01 01:20:00          17\n",
       "2018-03-01 01:30:00          12"
      ]
     },
     "execution_count": 23,
     "metadata": {},
     "output_type": "execute_result"
    }
   ],
   "source": [
    "import pandas as pd\n",
    "import numpy as np\n",
    "from statsmodels.tsa.seasonal import seasonal_decompose\n",
    "import matplotlib.pyplot as plt\n",
    "from sklearn.model_selection import train_test_split\n",
    "from sklearn.linear_model import LinearRegression\n",
    "from sklearn.ensemble import RandomForestRegressor\n",
    "from sklearn.tree import DecisionTreeRegressor\n",
    "from sklearn.metrics import mean_squared_error\n",
    "\n",
    "try:\n",
    "    data = pd.read_csv('/datasets/taxi.csv', parse_dates=['datetime'], index_col=[0])\n",
    "except:\n",
    "    data = pd.read_csv('./taxi.csv', parse_dates=['datetime'], index_col=[0])\n",
    "\n",
    "#data['datetime'] = pd.to_datetime(data['datetime'])\n",
    "\n",
    "print(data.info())\n",
    "data.head(10)"
   ]
  },
  {
   "cell_type": "markdown",
   "metadata": {},
   "source": [
    "Проверим хронологичность данных."
   ]
  },
  {
   "cell_type": "code",
   "execution_count": 24,
   "metadata": {
    "scrolled": true
   },
   "outputs": [
    {
     "name": "stdout",
     "output_type": "stream",
     "text": [
      "True\n",
      "<class 'pandas.core.frame.DataFrame'>\n",
      "DatetimeIndex: 26496 entries, 2018-03-01 00:00:00 to 2018-08-31 23:50:00\n",
      "Data columns (total 1 columns):\n",
      " #   Column      Non-Null Count  Dtype\n",
      "---  ------      --------------  -----\n",
      " 0   num_orders  26496 non-null  int64\n",
      "dtypes: int64(1)\n",
      "memory usage: 414.0 KB\n",
      "None\n"
     ]
    }
   ],
   "source": [
    "data.sort_index()\n",
    "print(data.index.is_monotonic)\n",
    "print(data.info())"
   ]
  },
  {
   "cell_type": "markdown",
   "metadata": {},
   "source": [
    "<div class=\"alert alert-success\">\n",
    "<b>Комментарий ревьюера:</b> ✔️Хронология важна во временных рядах. </div>"
   ]
  },
  {
   "cell_type": "markdown",
   "metadata": {},
   "source": [
    "Видно что данные чистые и отсортированы, проведем ресемплирование."
   ]
  },
  {
   "cell_type": "code",
   "execution_count": 25,
   "metadata": {
    "scrolled": true
   },
   "outputs": [
    {
     "data": {
      "text/plain": [
       "<AxesSubplot:xlabel='datetime'>"
      ]
     },
     "execution_count": 25,
     "metadata": {},
     "output_type": "execute_result"
    },
    {
     "data": {
      "image/png": "[encoded data removed]",
      "text/plain": [
       "<Figure size 432x288 with 1 Axes>"
      ]
     },
     "metadata": {
      "needs_background": "light"
     },
     "output_type": "display_data"
    }
   ],
   "source": [
    "data = data.resample('1H')\n",
    "data = data.sum()\n",
    "data.plot()"
   ]
  },
  {
   "cell_type": "markdown",
   "metadata": {},
   "source": [
    "<div class=\"alert alert-success\">\n",
    "<b>Комментарий ревьюера:</b> ✔️Расемплирование проще всего интерпритируется с функцией суммы. </div>"
   ]
  },
  {
   "cell_type": "markdown",
   "metadata": {},
   "source": [
    "<div class=\"alert alert-block alert-info\">\n",
    "<b>Комментарий студента_ver2:</b> Переделала в функцию суммы.\n",
    "</div>"
   ]
  },
  {
   "cell_type": "markdown",
   "metadata": {},
   "source": [
    "## Анализ"
   ]
  },
  {
   "cell_type": "markdown",
   "metadata": {},
   "source": [
    "По графику уже можно сказать, что данные довольно стационарны.\n",
    "Проверим наличие тренда."
   ]
  },
  {
   "cell_type": "code",
   "execution_count": 26,
   "metadata": {
    "scrolled": false
   },
   "outputs": [
    {
     "data": {
      "image/png": "[encoded data removed]",
      "text/plain": [
       "<Figure size 432x576 with 3 Axes>"
      ]
     },
     "metadata": {
      "needs_background": "light"
     },
     "output_type": "display_data"
    }
   ],
   "source": [
    "data_decomposed = data['2018-03-01 00:00:00':'2018-06-01 00:00:00'].resample('1D').sum()\n",
    "decomposed = seasonal_decompose(data_decomposed)\n",
    "\n",
    "plt.figure(figsize=(6, 8))\n",
    "plt.subplot(311)\n",
    "decomposed.trend.plot(ax=plt.gca())\n",
    "plt.title('Trend')\n",
    "plt.subplot(312)\n",
    "decomposed.seasonal.plot(ax=plt.gca())\n",
    "plt.title('Seasonality')\n",
    "plt.subplot(313)\n",
    "decomposed.resid.plot(ax=plt.gca())\n",
    "plt.title('Residuals')\n",
    "plt.tight_layout()"
   ]
  },
  {
   "cell_type": "code",
   "execution_count": 27,
   "metadata": {
    "scrolled": false
   },
   "outputs": [
    {
     "data": {
      "image/png": "[encoded data removed]",
      "text/plain": [
       "<Figure size 432x576 with 3 Axes>"
      ]
     },
     "metadata": {
      "needs_background": "light"
     },
     "output_type": "display_data"
    }
   ],
   "source": [
    "# к.р.\n",
    "data_decomposed = data['2018-04-30 00:00:00':'2018-05-15 00:00:00'].resample('1D').sum()\n",
    "decomposed = seasonal_decompose(data_decomposed)\n",
    "\n",
    "plt.figure(figsize=(6, 8))\n",
    "plt.subplot(311)\n",
    "decomposed.trend.plot(ax=plt.gca())\n",
    "plt.title('Trend')\n",
    "plt.subplot(312)\n",
    "decomposed.seasonal.plot(ax=plt.gca())\n",
    "plt.title('Seasonality')\n",
    "plt.subplot(313)\n",
    "decomposed.resid.plot(ax=plt.gca())\n",
    "plt.title('Residuals')\n",
    "plt.tight_layout()"
   ]
  },
  {
   "cell_type": "markdown",
   "metadata": {},
   "source": [
    "<div class=\"alert alert-success\">\n",
    "<b>Комментарий ревьюера v.2:</b> ✔️ Давай еще раз этот момент. Когда взяли веспериод увидели трендвосходящий, выше я взял две недели, что видим, на графике тренда  видим, что у нас в понедельник и четверг и выходные всегда максимальное кол-во заказов, а вторник минмальное, чтоб это проверить берем две недели другого месяца. </div>"
   ]
  },
  {
   "cell_type": "markdown",
   "metadata": {},
   "source": [
    "<div class=\"alert alert-block alert-info\">\n",
    "<b>Комментарий студента_ver3:</b> Что-то я запуталась, я думала что тренд это однонаправленное явление (либо вверх либо вниз), а тут тренд больше на сезонность похож. И как бы там ни было, получается что общий тренд увеличения значения по месяцам учитывать не надо, то есть признаками берем только:\n",
    "- hour так как есть сезонная зависимость\n",
    "- dayofweek так как есть зависимость по тренду\n",
    "и больше ничего?\n",
    "    \n",
    "Оставила только их ниже в признаках.\n",
    "</div>"
   ]
  },
  {
   "cell_type": "markdown",
   "metadata": {},
   "source": [
    "\n",
    "<div class=\"alert alert-success\">\n",
    "<b>Комментарий ревьюера v.3:</b> ✔️Тренд похож больше на сезонность потомучто рассемплирование по часу, если возьмем по дню, то другая картина будет, но суть не изменится.</div>"
   ]
  },
  {
   "cell_type": "code",
   "execution_count": 29,
   "metadata": {
    "scrolled": false
   },
   "outputs": [
    {
     "data": {
      "image/png": "[encoded data removed]",
      "text/plain": [
       "<Figure size 432x576 with 3 Axes>"
      ]
     },
     "metadata": {
      "needs_background": "light"
     },
     "output_type": "display_data"
    }
   ],
   "source": [
    "# к.р.\n",
    "data_decomposed = data['2018-05-14 00:00:00':'2018-05-29 00:00:00']\n",
    "decomposed = seasonal_decompose(data_decomposed)\n",
    "\n",
    "plt.figure(figsize=(6, 8))\n",
    "plt.subplot(311)\n",
    "decomposed.trend.plot(ax=plt.gca())\n",
    "plt.title('Trend')\n",
    "plt.subplot(312)\n",
    "decomposed.seasonal.plot(ax=plt.gca())\n",
    "plt.title('Seasonality')\n",
    "plt.subplot(313)\n",
    "decomposed.resid.plot(ax=plt.gca())\n",
    "plt.title('Residuals')\n",
    "plt.tight_layout()"
   ]
  },
  {
   "cell_type": "markdown",
   "metadata": {},
   "source": [
    "<div class=\"alert alert-success\">\n",
    "<b>Комментарий ревьюера v.2:</b> ✔️ Видим похожую картину, значит можно сдлать вывод, что есть недельная сезонность, зависимостьот дня недели, таким же образом проверяют месячную и часовую сезонность. Видим что на 0.00 и 18.00 пики максимума, а 6.00 мин кол-во заказов. </div>"
   ]
  },
  {
   "cell_type": "code",
   "execution_count": 30,
   "metadata": {
    "scrolled": true
   },
   "outputs": [
    {
     "data": {
      "image/png": "[encoded data removed]",
      "text/plain": [
       "<Figure size 432x576 with 3 Axes>"
      ]
     },
     "metadata": {
      "needs_background": "light"
     },
     "output_type": "display_data"
    }
   ],
   "source": [
    "# к.р.\n",
    "data_decomposed = data['2018-05-14 00:00:00':'2018-05-16 00:00:00']\n",
    "decomposed = seasonal_decompose(data_decomposed)\n",
    "\n",
    "plt.figure(figsize=(6, 8))\n",
    "plt.subplot(311)\n",
    "decomposed.trend.plot(ax=plt.gca())\n",
    "plt.title('Trend')\n",
    "plt.subplot(312)\n",
    "decomposed.seasonal.plot(ax=plt.gca())\n",
    "plt.title('Seasonality')\n",
    "plt.subplot(313)\n",
    "decomposed.resid.plot(ax=plt.gca())\n",
    "plt.title('Residuals')\n",
    "plt.tight_layout()"
   ]
  },
  {
   "cell_type": "markdown",
   "metadata": {},
   "source": [
    "Видно, что есть возрастающий тренд по месяцам и сезонность по дням (ежедневные повторяющиеся пики о падения).\n",
    "Из анализа видно, что предсказания необходимо делать учитывая часы, дни месяца и недели и месяцы."
   ]
  },
  {
   "cell_type": "markdown",
   "metadata": {},
   "source": [
    "<div class=\"alert alert-danger\">\n",
    "<b>Комментарий ревьюера:</b>  ❌Анализ во временном ряду подразумевает под сабой нахождение зависимостей связанных с временными интервалами, т.е. часовые сезонности или недельные или месячные, это мы можен определить с помощью функции декомпозиции, раскладывая рядна разных временных интервалах, если не понятен этот момент дай знать пожалуйста. </div>"
   ]
  },
  {
   "cell_type": "markdown",
   "metadata": {},
   "source": [
    "<div class=\"alert alert-block alert-info\">\n",
    "<b>Комментарий студента_ver2:</b> Все теперь поняла, сначала сделала график Seasonality с неправильным временным масштабом, там все слилось и непонятно было есть ли она вообще. Переделала, вроде сейчас все понятно.\n",
    "</div>"
   ]
  },
  {
   "cell_type": "markdown",
   "metadata": {},
   "source": [
    "## Обучение"
   ]
  },
  {
   "cell_type": "code",
   "execution_count": 31,
   "metadata": {
    "scrolled": false
   },
   "outputs": [
    {
     "data": {
      "text/html": [
       "<div>\n",
       "<style scoped>\n",
       "    .dataframe tbody tr th:only-of-type {\n",
       "        vertical-align: middle;\n",
       "    }\n",
       "\n",
       "    .dataframe tbody tr th {\n",
       "        vertical-align: top;\n",
       "    }\n",
       "\n",
       "    .dataframe thead th {\n",
       "        text-align: right;\n",
       "    }\n",
       "</style>\n",
       "<table border=\"1\" class=\"dataframe\">\n",
       "  <thead>\n",
       "    <tr style=\"text-align: right;\">\n",
       "      <th></th>\n",
       "      <th>num_orders</th>\n",
       "      <th>hour</th>\n",
       "      <th>month</th>\n",
       "      <th>dayofweek</th>\n",
       "      <th>lag_1</th>\n",
       "      <th>lag_2</th>\n",
       "      <th>lag_3</th>\n",
       "      <th>lag_4</th>\n",
       "      <th>lag_5</th>\n",
       "      <th>lag_6</th>\n",
       "      <th>...</th>\n",
       "      <th>lag_160</th>\n",
       "      <th>lag_161</th>\n",
       "      <th>lag_162</th>\n",
       "      <th>lag_163</th>\n",
       "      <th>lag_164</th>\n",
       "      <th>lag_165</th>\n",
       "      <th>lag_166</th>\n",
       "      <th>lag_167</th>\n",
       "      <th>lag_168</th>\n",
       "      <th>rolling_mean</th>\n",
       "    </tr>\n",
       "    <tr>\n",
       "      <th>datetime</th>\n",
       "      <th></th>\n",
       "      <th></th>\n",
       "      <th></th>\n",
       "      <th></th>\n",
       "      <th></th>\n",
       "      <th></th>\n",
       "      <th></th>\n",
       "      <th></th>\n",
       "      <th></th>\n",
       "      <th></th>\n",
       "      <th></th>\n",
       "      <th></th>\n",
       "      <th></th>\n",
       "      <th></th>\n",
       "      <th></th>\n",
       "      <th></th>\n",
       "      <th></th>\n",
       "      <th></th>\n",
       "      <th></th>\n",
       "      <th></th>\n",
       "      <th></th>\n",
       "    </tr>\n",
       "  </thead>\n",
       "  <tbody>\n",
       "    <tr>\n",
       "      <th>2018-03-01 00:00:00</th>\n",
       "      <td>124</td>\n",
       "      <td>0</td>\n",
       "      <td>3</td>\n",
       "      <td>3</td>\n",
       "      <td>NaN</td>\n",
       "      <td>NaN</td>\n",
       "      <td>NaN</td>\n",
       "      <td>NaN</td>\n",
       "      <td>NaN</td>\n",
       "      <td>NaN</td>\n",
       "      <td>...</td>\n",
       "      <td>NaN</td>\n",
       "      <td>NaN</td>\n",
       "      <td>NaN</td>\n",
       "      <td>NaN</td>\n",
       "      <td>NaN</td>\n",
       "      <td>NaN</td>\n",
       "      <td>NaN</td>\n",
       "      <td>NaN</td>\n",
       "      <td>NaN</td>\n",
       "      <td>NaN</td>\n",
       "    </tr>\n",
       "    <tr>\n",
       "      <th>2018-03-01 01:00:00</th>\n",
       "      <td>85</td>\n",
       "      <td>1</td>\n",
       "      <td>3</td>\n",
       "      <td>3</td>\n",
       "      <td>124.0</td>\n",
       "      <td>NaN</td>\n",
       "      <td>NaN</td>\n",
       "      <td>NaN</td>\n",
       "      <td>NaN</td>\n",
       "      <td>NaN</td>\n",
       "      <td>...</td>\n",
       "      <td>NaN</td>\n",
       "      <td>NaN</td>\n",
       "      <td>NaN</td>\n",
       "      <td>NaN</td>\n",
       "      <td>NaN</td>\n",
       "      <td>NaN</td>\n",
       "      <td>NaN</td>\n",
       "      <td>NaN</td>\n",
       "      <td>NaN</td>\n",
       "      <td>NaN</td>\n",
       "    </tr>\n",
       "    <tr>\n",
       "      <th>2018-03-01 02:00:00</th>\n",
       "      <td>71</td>\n",
       "      <td>2</td>\n",
       "      <td>3</td>\n",
       "      <td>3</td>\n",
       "      <td>85.0</td>\n",
       "      <td>124.0</td>\n",
       "      <td>NaN</td>\n",
       "      <td>NaN</td>\n",
       "      <td>NaN</td>\n",
       "      <td>NaN</td>\n",
       "      <td>...</td>\n",
       "      <td>NaN</td>\n",
       "      <td>NaN</td>\n",
       "      <td>NaN</td>\n",
       "      <td>NaN</td>\n",
       "      <td>NaN</td>\n",
       "      <td>NaN</td>\n",
       "      <td>NaN</td>\n",
       "      <td>NaN</td>\n",
       "      <td>NaN</td>\n",
       "      <td>NaN</td>\n",
       "    </tr>\n",
       "    <tr>\n",
       "      <th>2018-03-01 03:00:00</th>\n",
       "      <td>66</td>\n",
       "      <td>3</td>\n",
       "      <td>3</td>\n",
       "      <td>3</td>\n",
       "      <td>71.0</td>\n",
       "      <td>85.0</td>\n",
       "      <td>124.0</td>\n",
       "      <td>NaN</td>\n",
       "      <td>NaN</td>\n",
       "      <td>NaN</td>\n",
       "      <td>...</td>\n",
       "      <td>NaN</td>\n",
       "      <td>NaN</td>\n",
       "      <td>NaN</td>\n",
       "      <td>NaN</td>\n",
       "      <td>NaN</td>\n",
       "      <td>NaN</td>\n",
       "      <td>NaN</td>\n",
       "      <td>NaN</td>\n",
       "      <td>NaN</td>\n",
       "      <td>NaN</td>\n",
       "    </tr>\n",
       "    <tr>\n",
       "      <th>2018-03-01 04:00:00</th>\n",
       "      <td>43</td>\n",
       "      <td>4</td>\n",
       "      <td>3</td>\n",
       "      <td>3</td>\n",
       "      <td>66.0</td>\n",
       "      <td>71.0</td>\n",
       "      <td>85.0</td>\n",
       "      <td>124.0</td>\n",
       "      <td>NaN</td>\n",
       "      <td>NaN</td>\n",
       "      <td>...</td>\n",
       "      <td>NaN</td>\n",
       "      <td>NaN</td>\n",
       "      <td>NaN</td>\n",
       "      <td>NaN</td>\n",
       "      <td>NaN</td>\n",
       "      <td>NaN</td>\n",
       "      <td>NaN</td>\n",
       "      <td>NaN</td>\n",
       "      <td>NaN</td>\n",
       "      <td>NaN</td>\n",
       "    </tr>\n",
       "  </tbody>\n",
       "</table>\n",
       "<p>5 rows × 173 columns</p>\n",
       "</div>"
      ],
      "text/plain": [
       "                     num_orders  hour  month  dayofweek  lag_1  lag_2  lag_3  \\\n",
       "datetime                                                                       \n",
       "2018-03-01 00:00:00         124     0      3          3    NaN    NaN    NaN   \n",
       "2018-03-01 01:00:00          85     1      3          3  124.0    NaN    NaN   \n",
       "2018-03-01 02:00:00          71     2      3          3   85.0  124.0    NaN   \n",
       "2018-03-01 03:00:00          66     3      3          3   71.0   85.0  124.0   \n",
       "2018-03-01 04:00:00          43     4      3          3   66.0   71.0   85.0   \n",
       "\n",
       "                     lag_4  lag_5  lag_6  ...  lag_160  lag_161  lag_162  \\\n",
       "datetime                                  ...                              \n",
       "2018-03-01 00:00:00    NaN    NaN    NaN  ...      NaN      NaN      NaN   \n",
       "2018-03-01 01:00:00    NaN    NaN    NaN  ...      NaN      NaN      NaN   \n",
       "2018-03-01 02:00:00    NaN    NaN    NaN  ...      NaN      NaN      NaN   \n",
       "2018-03-01 03:00:00    NaN    NaN    NaN  ...      NaN      NaN      NaN   \n",
       "2018-03-01 04:00:00  124.0    NaN    NaN  ...      NaN      NaN      NaN   \n",
       "\n",
       "                     lag_163  lag_164  lag_165  lag_166  lag_167  lag_168  \\\n",
       "datetime                                                                    \n",
       "2018-03-01 00:00:00      NaN      NaN      NaN      NaN      NaN      NaN   \n",
       "2018-03-01 01:00:00      NaN      NaN      NaN      NaN      NaN      NaN   \n",
       "2018-03-01 02:00:00      NaN      NaN      NaN      NaN      NaN      NaN   \n",
       "2018-03-01 03:00:00      NaN      NaN      NaN      NaN      NaN      NaN   \n",
       "2018-03-01 04:00:00      NaN      NaN      NaN      NaN      NaN      NaN   \n",
       "\n",
       "                     rolling_mean  \n",
       "datetime                           \n",
       "2018-03-01 00:00:00           NaN  \n",
       "2018-03-01 01:00:00           NaN  \n",
       "2018-03-01 02:00:00           NaN  \n",
       "2018-03-01 03:00:00           NaN  \n",
       "2018-03-01 04:00:00           NaN  \n",
       "\n",
       "[5 rows x 173 columns]"
      ]
     },
     "execution_count": 31,
     "metadata": {},
     "output_type": "execute_result"
    }
   ],
   "source": [
    "def make_features(data, max_lag, rolling_mean_size):\n",
    "    data['hour'] = data.index.hour\n",
    "    data['month'] = data.index.month\n",
    "    #data['day'] = data.index.day\n",
    "    data['dayofweek'] = data.index.dayofweek\n",
    "    \n",
    "    for lag in range(1, max_lag + 1):\n",
    "        data['lag_{}'.format(lag)] = data['num_orders'].shift(lag)\n",
    "\n",
    "    data['rolling_mean'] = data['num_orders'].shift().rolling(rolling_mean_size).mean()\n",
    "\n",
    "make_features(data, 24*7, 25)\n",
    "\n",
    "data.head()"
   ]
  },
  {
   "cell_type": "markdown",
   "metadata": {},
   "source": [
    "<div class=\"alert alert-danger\">\n",
    "<b>Комментарий ревьюера:</b>  ❌Наши признаки сгенерированы на угад, например добавив год, получили константу, т.к. данные за 8 месяцев, определить призанки может помочь только анализ.  </div>"
   ]
  },
  {
   "cell_type": "code",
   "execution_count": 32,
   "metadata": {},
   "outputs": [],
   "source": [
    "train, valid = train_test_split(data, shuffle=False, test_size=0.25)\n",
    "train = train.dropna()\n",
    "\n",
    "train, test = train_test_split(data, shuffle=False, test_size=0.1)\n",
    "train = train.dropna()\n",
    "\n",
    "features_train = train.drop('num_orders', axis=1)\n",
    "features_valid = valid.drop('num_orders', axis=1)\n",
    "features_test = test.drop('num_orders', axis=1)\n",
    "\n",
    "target_train = train['num_orders']\n",
    "target_valid = valid['num_orders']\n",
    "target_test = test['num_orders']\n"
   ]
  },
  {
   "cell_type": "code",
   "execution_count": 33,
   "metadata": {
    "scrolled": true
   },
   "outputs": [
    {
     "name": "stdout",
     "output_type": "stream",
     "text": [
      "(3806, 172)\n",
      "(1104, 172)\n",
      "(442, 172)\n"
     ]
    }
   ],
   "source": [
    "print(features_train.shape)\n",
    "print(features_valid.shape)\n",
    "print(features_test.shape)"
   ]
  },
  {
   "cell_type": "markdown",
   "metadata": {},
   "source": [
    "### Линейная регрессия"
   ]
  },
  {
   "cell_type": "code",
   "execution_count": 34,
   "metadata": {},
   "outputs": [
    {
     "name": "stdout",
     "output_type": "stream",
     "text": [
      "RMSE валидационной выборки по линейной регрессии:  30.58\n"
     ]
    }
   ],
   "source": [
    "model_1 = LinearRegression().fit(features_train, target_train)\n",
    "\n",
    "predictions_linearR = model_1.predict(features_valid)\n",
    "result_linearR = round(mean_squared_error(target_valid, predictions_linearR)**0.5,2)\n",
    "\n",
    "\n",
    "print(\"RMSE валидационной выборки по линейной регрессии: \", result_linearR)"
   ]
  },
  {
   "cell_type": "markdown",
   "metadata": {},
   "source": [
    "### Случайный лес"
   ]
  },
  {
   "cell_type": "code",
   "execution_count": 35,
   "metadata": {},
   "outputs": [
    {
     "name": "stdout",
     "output_type": "stream",
     "text": [
      "RMSE наилучшей модели на валидационной выборке: 27.88 Количество деревьев: 80 Максимальная глубина: 9\n"
     ]
    }
   ],
   "source": [
    "best_model_randomF = None\n",
    "best_result_randomF = 10000\n",
    "best_est_randomF = 0\n",
    "best_depth_randomF = 0\n",
    "for est in range(10, 101, 10):\n",
    "    for depth in range (1, 10):\n",
    "        model_2 = RandomForestRegressor(random_state=12345, n_estimators=est, max_depth=depth)\n",
    "        model_2.fit(features_train,target_train) \n",
    "        predictions = model_2.predict(features_valid) \n",
    "        result = mean_squared_error(target_valid, predictions)**0.5\n",
    "        if result < best_result_randomF:\n",
    "            best_model_randomF = model_2\n",
    "            best_result_randomF = result\n",
    "            best_est_randomF = est\n",
    "            best_depth_randomF = depth\n",
    "result_randomF = round(best_result_randomF,2)\n",
    "print(\"RMSE наилучшей модели на валидационной выборке:\", result_randomF, \"Количество деревьев:\", best_est_randomF, \"Максимальная глубина:\", best_depth_randomF)"
   ]
  },
  {
   "cell_type": "markdown",
   "metadata": {},
   "source": [
    "### Дерево решений"
   ]
  },
  {
   "cell_type": "code",
   "execution_count": 36,
   "metadata": {},
   "outputs": [
    {
     "name": "stdout",
     "output_type": "stream",
     "text": [
      "RMSE наилучшей модели на валидационной выборке: 28.02 Максимальная глубина: 1\n"
     ]
    }
   ],
   "source": [
    "best_model_tree = None\n",
    "best_result_tree = 0\n",
    "best_depth_tree = 0\n",
    "for depth in range(1, 20):\n",
    "    model_3 = DecisionTreeRegressor(random_state=12345, max_depth=depth)\n",
    "    model_3.fit(features_train,target_train) \n",
    "    predictions_valid_tree = model_3.predict(features_valid)\n",
    "    result = mean_squared_error(target_valid, predictions)**0.5\n",
    "    if result > best_result_tree:\n",
    "        best_model_tree = model_3\n",
    "        best_result_tree = result\n",
    "        best_depth_tree = depth\n",
    "        \n",
    "result_tree = round(best_result_tree,2)\n",
    "print(\"RMSE наилучшей модели на валидационной выборке:\", result_tree, \"Максимальная глубина:\", best_depth_tree)"
   ]
  },
  {
   "cell_type": "markdown",
   "metadata": {},
   "source": [
    "На валидационной выборке все модели показали хорошие результаты. Проверим наиболее удачную на тестовой выборке."
   ]
  },
  {
   "cell_type": "markdown",
   "metadata": {},
   "source": [
    "## Тестирование"
   ]
  },
  {
   "cell_type": "code",
   "execution_count": 37,
   "metadata": {
    "scrolled": true
   },
   "outputs": [
    {
     "name": "stdout",
     "output_type": "stream",
     "text": [
      "RMSE наилучшей модели на тестовой выборке: 39.884682625493504\n"
     ]
    }
   ],
   "source": [
    "model_2 = RandomForestRegressor(random_state=12345, n_estimators=80, max_depth=9)\n",
    "model_2.fit(features_train,target_train) \n",
    "predictions = model_2.predict(features_test) \n",
    "result = mean_squared_error(target_test, predictions)**0.5\n",
    "\n",
    "print(\"RMSE наилучшей модели на тестовой выборке:\", result)"
   ]
  },
  {
   "cell_type": "markdown",
   "metadata": {},
   "source": [
    "Модель работает. Можно показывать заказчику :D"
   ]
  },
  {
   "cell_type": "code",
   "execution_count": 38,
   "metadata": {},
   "outputs": [
    {
     "data": {
      "image/png": "[encoded data removed]",
      "text/plain": [
       "<Figure size 432x288 with 1 Axes>"
      ]
     },
     "metadata": {
      "needs_background": "light"
     },
     "output_type": "display_data"
    }
   ],
   "source": [
    "a=np.array(target_test, np.int32)\n",
    "b=np.array(predictions, np.int32)\n",
    "\n",
    "plt.plot(a, color = 'red', label = 'Historical data')\n",
    "plt.plot(b, color = 'blue', label='Predicted data')\n",
    "plt.legend()\n",
    "plt.show()"
   ]
  },
  {
   "cell_type": "markdown",
   "metadata": {},
   "source": [
    "<div class=\"alert alert-success\">\n",
    "<b>Комментарий ревьюера:</b>  Если линейной регресии сделать перебор лагов и скользящей средней, то она может показать себя лучше чем лес, на временных рядах линейные модели часто себяпоказывают лучше, чем деревья. </div>"
   ]
  },
  {
   "cell_type": "markdown",
   "metadata": {},
   "source": [
    "<div class=\"alert alert-block alert-info\">\n",
    "<b>Комментарий студента_ver2:</b> Можешь пожалуйста пояснить этот пункт? скользящее среднее надо делать перед делением на выборки, чтобы они для всех моделей были одинаковы?\n",
    "</div>"
   ]
  },
  {
   "cell_type": "markdown",
   "metadata": {},
   "source": [
    "<div class=\"alert alert-success\">\n",
    "<b>Комментарий ревьюера v.2:</b> ✔️ У нас параметров для Линенйой регрессии кроме лага и скользящей средней нет, поэтому для нее мы можем перебором подобрать оптимальный. Пример ниже, если захочешь реализовать, лучше её последнейпроверять или сделать отдельный датафрейм, чтоб её параметры в другие модели не попали.\n",
    "</div>"
   ]
  },
  {
   "cell_type": "raw",
   "metadata": {},
   "source": [
    "%%time\n",
    "best_result = 10000\n",
    "best_lag = 0\n",
    "best_LinearRegression = None\n",
    "for i in range(1, 100):\n",
    "    df = data.copy() #копируем оригинальный датасет для добавления признаков\n",
    "    make_features(df, i, 10)\n",
    "    \n",
    "    train, test = train_test_split(df, shuffle=False, test_size=0.1)\n",
    "    train = train.dropna()\n",
    "\n",
    "    target_train = train['num_orders']\n",
    "    features_train = train.drop('num_orders', axis=1)\n",
    "    target_test = test['num_orders']\n",
    "    features_test = test.drop('num_orders',axis=1)\n",
    "\n",
    "    lr = LinearRegression()\n",
    "    lr.fit(features_train, target_train)\n",
    "\n",
    "    tss = TimeSeriesSplit(max_train_size=None, n_splits=8)\n",
    "    rmse_score = make_scorer(rmse, greater_is_better = False)\n",
    "    scores = cross_val_score(lr, features_train, target_train, cv=tss , scoring=rmse_score)\n",
    "    result = scores.mean() * -1\n",
    "    if result < best_result:\n",
    "        best_lag = i\n",
    "        best_result = result\n",
    "        best_LinearRegression = lr\n",
    "print('Best lag:', best_lag)  \n",
    "print('Best RMSE:', best_result)"
   ]
  },
  {
   "cell_type": "raw",
   "metadata": {},
   "source": [
    "a=np.array(target_test, np.int32)\n",
    "b=np.array(predictions, np.int32)\n",
    "\n",
    "plt.plot(a, color = 'red', label = 'Historical data')\n",
    "plt.plot(b, color = 'blue', label='Predicted data')\n",
    "plt.legend()\n",
    "plt.show()"
   ]
  },
  {
   "cell_type": "markdown",
   "metadata": {},
   "source": [
    "<div class=\"alert alert-success\">\n",
    "    \n",
    "<b>Комментарий ревьюера v.2:</b> Забыл прошлый раз добавить, анализ временных тяжело представить без графиков, нам нужен график работы модели, особенно это актуально, когда естьдве модели с близкими метриками, примерграфика выше. </div>"
   ]
  },
  {
   "cell_type": "code",
   "execution_count": null,
   "metadata": {},
   "outputs": [],
   "source": []
  },
  {
   "cell_type": "markdown",
   "metadata": {},
   "source": [
    "<div class=\"alert alert-block alert-info\">\n",
    "<b>Комментарий студента:</b> Сразу задам вопрос, получается что гиперпараметры в make_features нужно просто подбирать перебором? нет какого то более автоматизированного метода?\n",
    "</div>"
   ]
  },
  {
   "cell_type": "markdown",
   "metadata": {},
   "source": [
    "<div class=\"alert alert-success\">\n",
    "    \n",
    "<b>Комментарий ревьюера:</b>  Параметры подбираем анализом, вот видео, в яндекс барузере можно смотреть с переводом https://www.youtube.com/watch?v=W-YCKMNTcqE, а так есть еще библиотека для автоматической генерации фичей Tfresh https://otus.ru/nest/post/1024/. </div>"
   ]
  },
  {
   "cell_type": "markdown",
   "metadata": {},
   "source": [
    "<div class=\"alert alert-success\">\n",
    "    \n",
    "<b>Bnjujdsq комментарий ревьюера:</b> ✔️Дарья  ,  проделана большая работа, спасибо тебе.\n",
    "    \n",
    "   - Проект хорошо структуирован.\n",
    "   - Необходимо вернуться к анализу, анализ не полный на основании его тяжело добавить правильно признаки.\n",
    "   - Необходимо разобраться с признаками, есть лишнии и недостающий.\n",
    "   - Оставлю доп. материал по теме временных рядов https://habr.com/ru/company/ods/blog/327242/.\n",
    "    \n",
    "  Жду твоих исправлений и рад буду ответить на вопросы.)"
   ]
  },
  {
   "cell_type": "markdown",
   "metadata": {},
   "source": [
    "<div class=\"alert alert-success\">\n",
    "    \n",
    "<b> Итоговый комментарий ревьюера v.2: Дарья, дооформи проект по рекомендациям, котрые я оставил, если остались вопросы рад буду ответить, в чапстности по блоку анализа и формирования признаков.)</b> "
   ]
  },
  {
   "cell_type": "markdown",
   "metadata": {},
   "source": [
    "<div class=\"alert alert-success\">\n",
    "    \n",
    "<b> Итоговый комментарий ревьюера v.3: Дарья, проект принят, еслиостались вопросы, можешь задать через куратора.</b> "
   ]
  },
  {
   "cell_type": "markdown",
   "metadata": {},
   "source": [
    "## Чек-лист проверки"
   ]
  },
  {
   "cell_type": "markdown",
   "metadata": {},
   "source": [
    "- [x]  Jupyter Notebook открыт\n",
    "- [ ]  Весь код выполняется без ошибок\n",
    "- [ ]  Ячейки с кодом расположены в порядке исполнения\n",
    "- [ ]  Данные загружены и подготовлены\n",
    "- [ ]  Данные проанализированы\n",
    "- [ ]  Модель обучена, гиперпараметры подобраны\n",
    "- [ ]  Качество моделей проверено, выводы сделаны\n",
    "- [ ]  Значение *RMSE* на тестовой выборке не больше 48"
   ]
  }
 ],
 "metadata": {
  "ExecuteTimeLog": [
   {
    "duration": 589,
    "start_time": "2022-08-23T17:29:13.190Z"
   },
   {
    "duration": 108,
    "start_time": "2022-08-23T17:47:35.501Z"
   },
   {
    "duration": 68,
    "start_time": "2022-08-23T17:48:24.573Z"
   },
   {
    "duration": 58,
    "start_time": "2022-08-23T17:50:26.251Z"
   },
   {
    "duration": 67,
    "start_time": "2022-08-23T17:50:38.004Z"
   },
   {
    "duration": 890,
    "start_time": "2022-08-23T17:55:59.339Z"
   },
   {
    "duration": 84,
    "start_time": "2022-08-23T17:57:01.190Z"
   },
   {
    "duration": 12,
    "start_time": "2022-08-23T17:57:58.783Z"
   },
   {
    "duration": 13,
    "start_time": "2022-08-23T18:02:22.211Z"
   },
   {
    "duration": 496,
    "start_time": "2022-08-23T18:02:39.514Z"
   },
   {
    "duration": 99,
    "start_time": "2022-08-23T18:02:40.014Z"
   },
   {
    "duration": 9,
    "start_time": "2022-08-23T18:06:11.831Z"
   },
   {
    "duration": 463,
    "start_time": "2022-08-23T18:06:49.642Z"
   },
   {
    "duration": 19,
    "start_time": "2022-08-23T18:06:50.109Z"
   },
   {
    "duration": 801,
    "start_time": "2022-08-23T18:13:06.023Z"
   },
   {
    "duration": 7940,
    "start_time": "2022-08-23T18:18:51.755Z"
   },
   {
    "duration": 10,
    "start_time": "2022-08-23T18:19:20.780Z"
   },
   {
    "duration": 537,
    "start_time": "2022-08-23T18:19:38.747Z"
   },
   {
    "duration": 22,
    "start_time": "2022-08-23T18:19:39.286Z"
   },
   {
    "duration": 625,
    "start_time": "2022-08-23T18:19:39.314Z"
   },
   {
    "duration": 101,
    "start_time": "2022-08-23T18:19:39.943Z"
   },
   {
    "duration": 11,
    "start_time": "2022-08-23T18:26:30.730Z"
   },
   {
    "duration": 1315,
    "start_time": "2022-08-23T18:27:01.923Z"
   },
   {
    "duration": 11,
    "start_time": "2022-08-23T18:27:03.240Z"
   },
   {
    "duration": 323,
    "start_time": "2022-08-23T18:27:03.253Z"
   },
   {
    "duration": 765,
    "start_time": "2022-08-23T18:27:03.578Z"
   },
   {
    "duration": 381,
    "start_time": "2022-08-23T18:28:57.395Z"
   },
   {
    "duration": 349,
    "start_time": "2022-08-23T18:34:39.790Z"
   },
   {
    "duration": 102,
    "start_time": "2022-08-23T18:35:22.147Z"
   },
   {
    "duration": 1424,
    "start_time": "2022-08-23T18:35:46.868Z"
   },
   {
    "duration": 11,
    "start_time": "2022-08-23T18:35:48.294Z"
   },
   {
    "duration": 280,
    "start_time": "2022-08-23T18:35:48.307Z"
   },
   {
    "duration": 417,
    "start_time": "2022-08-23T18:35:48.590Z"
   },
   {
    "duration": 6,
    "start_time": "2022-08-23T18:35:49.009Z"
   },
   {
    "duration": 894,
    "start_time": "2022-08-23T18:48:02.022Z"
   },
   {
    "duration": 19,
    "start_time": "2022-08-23T18:48:52.616Z"
   },
   {
    "duration": 17,
    "start_time": "2022-08-23T18:50:31.338Z"
   },
   {
    "duration": 1516,
    "start_time": "2022-08-23T18:51:59.030Z"
   },
   {
    "duration": 11,
    "start_time": "2022-08-23T18:52:00.547Z"
   },
   {
    "duration": 307,
    "start_time": "2022-08-23T18:52:00.560Z"
   },
   {
    "duration": 398,
    "start_time": "2022-08-23T18:52:00.868Z"
   },
   {
    "duration": 169,
    "start_time": "2022-08-23T18:52:01.268Z"
   },
   {
    "duration": 28,
    "start_time": "2022-08-23T18:55:38.630Z"
   },
   {
    "duration": 16,
    "start_time": "2022-08-23T18:57:16.989Z"
   },
   {
    "duration": 24,
    "start_time": "2022-08-23T19:00:02.213Z"
   },
   {
    "duration": 29,
    "start_time": "2022-08-23T19:18:13.658Z"
   },
   {
    "duration": 26,
    "start_time": "2022-08-23T19:18:43.159Z"
   },
   {
    "duration": 33,
    "start_time": "2022-08-23T19:22:29.959Z"
   },
   {
    "duration": 1513,
    "start_time": "2022-08-23T19:31:39.152Z"
   },
   {
    "duration": 11,
    "start_time": "2022-08-23T19:31:40.667Z"
   },
   {
    "duration": 309,
    "start_time": "2022-08-23T19:31:40.683Z"
   },
   {
    "duration": 393,
    "start_time": "2022-08-23T19:31:40.993Z"
   },
   {
    "duration": 34,
    "start_time": "2022-08-23T19:31:41.388Z"
   },
   {
    "duration": 14,
    "start_time": "2022-08-23T19:31:41.424Z"
   },
   {
    "duration": 19,
    "start_time": "2022-08-23T19:31:41.439Z"
   },
   {
    "duration": 1567,
    "start_time": "2022-08-23T19:36:26.508Z"
   },
   {
    "duration": 11,
    "start_time": "2022-08-23T19:36:28.078Z"
   },
   {
    "duration": 270,
    "start_time": "2022-08-23T19:36:28.092Z"
   },
   {
    "duration": 415,
    "start_time": "2022-08-23T19:36:28.365Z"
   },
   {
    "duration": 44,
    "start_time": "2022-08-23T19:36:28.782Z"
   },
   {
    "duration": 13,
    "start_time": "2022-08-23T19:36:28.829Z"
   },
   {
    "duration": 9,
    "start_time": "2022-08-23T19:36:28.844Z"
   },
   {
    "duration": 4821,
    "start_time": "2022-08-23T19:36:28.855Z"
   },
   {
    "duration": 5204,
    "start_time": "2022-08-23T19:42:31.826Z"
   },
   {
    "duration": 1539,
    "start_time": "2022-08-23T19:48:00.979Z"
   },
   {
    "duration": 11,
    "start_time": "2022-08-23T19:48:02.520Z"
   },
   {
    "duration": 282,
    "start_time": "2022-08-23T19:48:02.533Z"
   },
   {
    "duration": 357,
    "start_time": "2022-08-23T19:48:02.818Z"
   },
   {
    "duration": 31,
    "start_time": "2022-08-23T19:48:03.177Z"
   },
   {
    "duration": 19,
    "start_time": "2022-08-23T19:48:03.210Z"
   },
   {
    "duration": 20,
    "start_time": "2022-08-23T19:48:03.231Z"
   },
   {
    "duration": 169,
    "start_time": "2022-08-23T19:48:03.253Z"
   },
   {
    "duration": 0,
    "start_time": "2022-08-23T19:48:03.424Z"
   },
   {
    "duration": 4605,
    "start_time": "2022-08-23T19:48:48.399Z"
   },
   {
    "duration": 12,
    "start_time": "2022-08-23T19:49:15.199Z"
   },
   {
    "duration": 1395,
    "start_time": "2022-08-23T19:49:50.849Z"
   },
   {
    "duration": 12,
    "start_time": "2022-08-23T19:49:52.246Z"
   },
   {
    "duration": 288,
    "start_time": "2022-08-23T19:49:52.260Z"
   },
   {
    "duration": 322,
    "start_time": "2022-08-23T19:49:52.550Z"
   },
   {
    "duration": 35,
    "start_time": "2022-08-23T19:49:52.874Z"
   },
   {
    "duration": 13,
    "start_time": "2022-08-23T19:49:52.911Z"
   },
   {
    "duration": 10,
    "start_time": "2022-08-23T19:49:52.925Z"
   },
   {
    "duration": 4473,
    "start_time": "2022-08-23T19:49:52.936Z"
   },
   {
    "duration": 139,
    "start_time": "2022-08-23T19:49:57.410Z"
   },
   {
    "duration": 183,
    "start_time": "2022-08-23T19:50:36.887Z"
   },
   {
    "duration": 1463,
    "start_time": "2022-08-23T19:51:04.610Z"
   },
   {
    "duration": 10,
    "start_time": "2022-08-23T19:51:06.075Z"
   },
   {
    "duration": 266,
    "start_time": "2022-08-23T19:51:06.087Z"
   },
   {
    "duration": 328,
    "start_time": "2022-08-23T19:51:06.355Z"
   },
   {
    "duration": 26,
    "start_time": "2022-08-23T19:51:06.685Z"
   },
   {
    "duration": 12,
    "start_time": "2022-08-23T19:51:06.713Z"
   },
   {
    "duration": 12,
    "start_time": "2022-08-23T19:51:06.727Z"
   },
   {
    "duration": 16674,
    "start_time": "2022-08-23T19:51:06.741Z"
   },
   {
    "duration": 200,
    "start_time": "2022-08-23T19:51:23.417Z"
   },
   {
    "duration": 1573,
    "start_time": "2022-08-23T19:57:32.238Z"
   },
   {
    "duration": 12,
    "start_time": "2022-08-23T19:57:33.814Z"
   },
   {
    "duration": 300,
    "start_time": "2022-08-23T19:57:33.828Z"
   },
   {
    "duration": 346,
    "start_time": "2022-08-23T19:57:34.131Z"
   },
   {
    "duration": 36,
    "start_time": "2022-08-23T19:57:34.479Z"
   },
   {
    "duration": 14,
    "start_time": "2022-08-23T19:57:34.517Z"
   },
   {
    "duration": 9,
    "start_time": "2022-08-23T19:57:34.533Z"
   },
   {
    "duration": 16260,
    "start_time": "2022-08-23T19:57:34.544Z"
   },
   {
    "duration": 196,
    "start_time": "2022-08-23T19:57:50.806Z"
   },
   {
    "duration": 501,
    "start_time": "2022-08-23T19:57:51.006Z"
   },
   {
    "duration": 357,
    "start_time": "2022-08-23T19:58:18.471Z"
   },
   {
    "duration": 9,
    "start_time": "2022-08-23T19:59:23.384Z"
   },
   {
    "duration": 1590,
    "start_time": "2022-08-23T20:00:00.182Z"
   },
   {
    "duration": 11,
    "start_time": "2022-08-23T20:00:01.774Z"
   },
   {
    "duration": 275,
    "start_time": "2022-08-23T20:00:01.787Z"
   },
   {
    "duration": 364,
    "start_time": "2022-08-23T20:00:02.064Z"
   },
   {
    "duration": 21,
    "start_time": "2022-08-23T20:00:02.430Z"
   },
   {
    "duration": 13,
    "start_time": "2022-08-23T20:00:02.453Z"
   },
   {
    "duration": 40,
    "start_time": "2022-08-23T20:00:02.468Z"
   },
   {
    "duration": 16210,
    "start_time": "2022-08-23T20:00:02.510Z"
   },
   {
    "duration": 212,
    "start_time": "2022-08-23T20:00:18.722Z"
   },
   {
    "duration": 389,
    "start_time": "2022-08-23T20:00:18.937Z"
   },
   {
    "duration": 9,
    "start_time": "2022-08-23T20:00:19.328Z"
   },
   {
    "duration": 1429,
    "start_time": "2022-08-23T20:01:21.832Z"
   },
   {
    "duration": 11,
    "start_time": "2022-08-23T20:01:23.263Z"
   },
   {
    "duration": 263,
    "start_time": "2022-08-23T20:01:23.276Z"
   },
   {
    "duration": 337,
    "start_time": "2022-08-23T20:01:23.541Z"
   },
   {
    "duration": 37,
    "start_time": "2022-08-23T20:01:23.880Z"
   },
   {
    "duration": 16,
    "start_time": "2022-08-23T20:01:23.919Z"
   },
   {
    "duration": 12,
    "start_time": "2022-08-23T20:01:23.936Z"
   },
   {
    "duration": 16534,
    "start_time": "2022-08-23T20:01:23.950Z"
   },
   {
    "duration": 200,
    "start_time": "2022-08-23T20:01:40.486Z"
   },
   {
    "duration": 366,
    "start_time": "2022-08-23T20:01:40.689Z"
   },
   {
    "duration": 10,
    "start_time": "2022-08-23T20:01:41.057Z"
   },
   {
    "duration": 1435,
    "start_time": "2022-08-23T20:06:33.009Z"
   },
   {
    "duration": 11,
    "start_time": "2022-08-23T20:06:34.446Z"
   },
   {
    "duration": 275,
    "start_time": "2022-08-23T20:06:34.458Z"
   },
   {
    "duration": 331,
    "start_time": "2022-08-23T20:06:34.735Z"
   },
   {
    "duration": 40,
    "start_time": "2022-08-23T20:06:35.068Z"
   },
   {
    "duration": 15,
    "start_time": "2022-08-23T20:06:35.109Z"
   },
   {
    "duration": 13,
    "start_time": "2022-08-23T20:06:35.125Z"
   },
   {
    "duration": 32082,
    "start_time": "2022-08-23T20:06:35.140Z"
   },
   {
    "duration": 394,
    "start_time": "2022-08-23T20:07:07.224Z"
   },
   {
    "duration": 788,
    "start_time": "2022-08-23T20:07:07.620Z"
   },
   {
    "duration": 10,
    "start_time": "2022-08-23T20:07:08.410Z"
   },
   {
    "duration": 1004,
    "start_time": "2022-08-23T20:07:38.234Z"
   },
   {
    "duration": 1500,
    "start_time": "2022-08-23T20:08:24.187Z"
   },
   {
    "duration": 11,
    "start_time": "2022-08-23T20:08:25.688Z"
   },
   {
    "duration": 285,
    "start_time": "2022-08-23T20:08:25.701Z"
   },
   {
    "duration": 367,
    "start_time": "2022-08-23T20:08:25.987Z"
   },
   {
    "duration": 65,
    "start_time": "2022-08-23T20:08:26.356Z"
   },
   {
    "duration": 18,
    "start_time": "2022-08-23T20:08:26.423Z"
   },
   {
    "duration": 162,
    "start_time": "2022-08-23T20:08:26.442Z"
   },
   {
    "duration": 98711,
    "start_time": "2022-08-23T20:08:26.607Z"
   },
   {
    "duration": 1117,
    "start_time": "2022-08-23T20:10:05.319Z"
   },
   {
    "duration": 3174,
    "start_time": "2022-08-23T20:10:06.438Z"
   },
   {
    "duration": 96,
    "start_time": "2022-08-23T20:10:09.614Z"
   },
   {
    "duration": 49,
    "start_time": "2022-08-23T20:13:28.158Z"
   },
   {
    "duration": 97,
    "start_time": "2022-08-23T20:47:26.781Z"
   },
   {
    "duration": 1942,
    "start_time": "2022-08-23T21:05:49.244Z"
   },
   {
    "duration": 10,
    "start_time": "2022-08-23T21:05:51.188Z"
   },
   {
    "duration": 285,
    "start_time": "2022-08-23T21:05:51.200Z"
   },
   {
    "duration": 365,
    "start_time": "2022-08-23T21:05:51.487Z"
   },
   {
    "duration": 143,
    "start_time": "2022-08-23T21:05:51.854Z"
   },
   {
    "duration": 47,
    "start_time": "2022-08-23T21:05:51.998Z"
   },
   {
    "duration": 358,
    "start_time": "2022-08-23T21:05:52.047Z"
   },
   {
    "duration": 545481,
    "start_time": "2022-08-23T21:05:52.407Z"
   },
   {
    "duration": 5931,
    "start_time": "2022-08-23T21:14:57.903Z"
   },
   {
    "duration": 17943,
    "start_time": "2022-08-23T21:15:03.837Z"
   },
   {
    "duration": 1695,
    "start_time": "2022-08-24T07:16:25.013Z"
   },
   {
    "duration": 10,
    "start_time": "2022-08-24T07:16:26.710Z"
   },
   {
    "duration": 271,
    "start_time": "2022-08-24T07:16:26.721Z"
   },
   {
    "duration": 863,
    "start_time": "2022-08-24T07:16:26.995Z"
   },
   {
    "duration": 146,
    "start_time": "2022-08-24T07:16:27.859Z"
   },
   {
    "duration": 37,
    "start_time": "2022-08-24T07:16:28.006Z"
   },
   {
    "duration": 3,
    "start_time": "2022-08-24T07:16:28.045Z"
   },
   {
    "duration": 260,
    "start_time": "2022-08-24T07:16:28.050Z"
   },
   {
    "duration": 129,
    "start_time": "2022-08-24T07:29:58.197Z"
   },
   {
    "duration": 1463,
    "start_time": "2022-08-24T07:30:15.711Z"
   },
   {
    "duration": 11,
    "start_time": "2022-08-24T07:30:17.176Z"
   },
   {
    "duration": 298,
    "start_time": "2022-08-24T07:30:17.188Z"
   },
   {
    "duration": 1069,
    "start_time": "2022-08-24T07:30:17.488Z"
   },
   {
    "duration": 219,
    "start_time": "2022-08-24T07:30:18.559Z"
   },
   {
    "duration": 35,
    "start_time": "2022-08-24T07:30:18.779Z"
   },
   {
    "duration": 3,
    "start_time": "2022-08-24T07:30:18.816Z"
   },
   {
    "duration": 288,
    "start_time": "2022-08-24T07:30:18.821Z"
   },
   {
    "duration": 1408,
    "start_time": "2022-08-24T07:31:56.447Z"
   },
   {
    "duration": 10,
    "start_time": "2022-08-24T07:31:57.857Z"
   },
   {
    "duration": 250,
    "start_time": "2022-08-24T07:31:57.868Z"
   },
   {
    "duration": 129,
    "start_time": "2022-08-24T07:31:58.120Z"
   },
   {
    "duration": 0,
    "start_time": "2022-08-24T07:31:58.250Z"
   },
   {
    "duration": 0,
    "start_time": "2022-08-24T07:31:58.252Z"
   },
   {
    "duration": 0,
    "start_time": "2022-08-24T07:31:58.253Z"
   },
   {
    "duration": 0,
    "start_time": "2022-08-24T07:31:58.254Z"
   },
   {
    "duration": 0,
    "start_time": "2022-08-24T07:31:58.255Z"
   },
   {
    "duration": 0,
    "start_time": "2022-08-24T07:31:58.256Z"
   },
   {
    "duration": 0,
    "start_time": "2022-08-24T07:31:58.257Z"
   },
   {
    "duration": 14,
    "start_time": "2022-08-24T07:34:51.201Z"
   },
   {
    "duration": 1451,
    "start_time": "2022-08-24T07:34:57.092Z"
   },
   {
    "duration": 10,
    "start_time": "2022-08-24T07:34:58.545Z"
   },
   {
    "duration": 251,
    "start_time": "2022-08-24T07:34:58.556Z"
   },
   {
    "duration": 905,
    "start_time": "2022-08-24T07:34:58.808Z"
   },
   {
    "duration": 137,
    "start_time": "2022-08-24T07:34:59.715Z"
   },
   {
    "duration": 31,
    "start_time": "2022-08-24T07:34:59.854Z"
   },
   {
    "duration": 4,
    "start_time": "2022-08-24T07:34:59.886Z"
   },
   {
    "duration": 303,
    "start_time": "2022-08-24T07:34:59.903Z"
   },
   {
    "duration": 1482,
    "start_time": "2022-08-24T07:35:51.778Z"
   },
   {
    "duration": 11,
    "start_time": "2022-08-24T07:35:53.262Z"
   },
   {
    "duration": 283,
    "start_time": "2022-08-24T07:35:53.275Z"
   },
   {
    "duration": 669,
    "start_time": "2022-08-24T07:35:53.560Z"
   },
   {
    "duration": 155,
    "start_time": "2022-08-24T07:35:54.231Z"
   },
   {
    "duration": 46,
    "start_time": "2022-08-24T07:35:54.388Z"
   },
   {
    "duration": 4,
    "start_time": "2022-08-24T07:35:54.436Z"
   },
   {
    "duration": 363,
    "start_time": "2022-08-24T07:35:54.441Z"
   },
   {
    "duration": 1453,
    "start_time": "2022-08-24T07:37:12.138Z"
   },
   {
    "duration": 12,
    "start_time": "2022-08-24T07:37:13.593Z"
   },
   {
    "duration": 246,
    "start_time": "2022-08-24T07:37:13.606Z"
   },
   {
    "duration": 603,
    "start_time": "2022-08-24T07:37:13.854Z"
   },
   {
    "duration": 144,
    "start_time": "2022-08-24T07:37:14.459Z"
   },
   {
    "duration": 39,
    "start_time": "2022-08-24T07:37:14.605Z"
   },
   {
    "duration": 4,
    "start_time": "2022-08-24T07:37:14.646Z"
   },
   {
    "duration": 455,
    "start_time": "2022-08-24T07:37:14.652Z"
   },
   {
    "duration": 1501,
    "start_time": "2022-08-24T07:41:31.866Z"
   },
   {
    "duration": 10,
    "start_time": "2022-08-24T07:41:33.370Z"
   },
   {
    "duration": 246,
    "start_time": "2022-08-24T07:41:33.382Z"
   },
   {
    "duration": 647,
    "start_time": "2022-08-24T07:41:33.630Z"
   },
   {
    "duration": 137,
    "start_time": "2022-08-24T07:41:34.279Z"
   },
   {
    "duration": 38,
    "start_time": "2022-08-24T07:41:34.417Z"
   },
   {
    "duration": 3,
    "start_time": "2022-08-24T07:41:34.457Z"
   },
   {
    "duration": 343,
    "start_time": "2022-08-24T07:41:34.462Z"
   },
   {
    "duration": 552900,
    "start_time": "2022-08-24T07:41:34.808Z"
   },
   {
    "duration": 6086,
    "start_time": "2022-08-24T07:50:47.710Z"
   },
   {
    "duration": 18052,
    "start_time": "2022-08-24T07:50:53.797Z"
   },
   {
    "duration": 1934,
    "start_time": "2022-08-24T08:46:30.717Z"
   },
   {
    "duration": 8,
    "start_time": "2022-08-24T08:46:32.653Z"
   },
   {
    "duration": 206,
    "start_time": "2022-08-24T08:46:32.663Z"
   },
   {
    "duration": 550,
    "start_time": "2022-08-24T08:46:35.879Z"
   },
   {
    "duration": 529,
    "start_time": "2022-08-24T08:46:36.510Z"
   },
   {
    "duration": 500,
    "start_time": "2022-08-24T08:49:08.269Z"
   },
   {
    "duration": 489,
    "start_time": "2022-08-24T08:52:38.100Z"
   },
   {
    "duration": 127,
    "start_time": "2022-08-24T08:56:03.559Z"
   },
   {
    "duration": 16,
    "start_time": "2022-08-24T08:56:16.302Z"
   },
   {
    "duration": 16,
    "start_time": "2022-08-24T08:56:23.877Z"
   },
   {
    "duration": 15,
    "start_time": "2022-08-24T08:56:35.476Z"
   },
   {
    "duration": 57,
    "start_time": "2022-08-24T08:56:55.006Z"
   },
   {
    "duration": 10,
    "start_time": "2022-08-24T08:56:55.730Z"
   },
   {
    "duration": 182,
    "start_time": "2022-08-24T08:56:56.304Z"
   },
   {
    "duration": 482,
    "start_time": "2022-08-24T08:56:57.193Z"
   },
   {
    "duration": 581,
    "start_time": "2022-08-24T08:56:57.677Z"
   },
   {
    "duration": 511,
    "start_time": "2022-08-24T08:56:58.260Z"
   },
   {
    "duration": 14,
    "start_time": "2022-08-24T08:56:59.098Z"
   },
   {
    "duration": 429,
    "start_time": "2022-08-24T08:57:23.530Z"
   },
   {
    "duration": 509,
    "start_time": "2022-08-24T08:57:30.177Z"
   },
   {
    "duration": 496,
    "start_time": "2022-08-24T08:57:59.310Z"
   },
   {
    "duration": 444,
    "start_time": "2022-08-24T09:00:52.716Z"
   },
   {
    "duration": 1922,
    "start_time": "2022-08-24T17:41:13.802Z"
   },
   {
    "duration": 9,
    "start_time": "2022-08-24T17:41:15.726Z"
   },
   {
    "duration": 238,
    "start_time": "2022-08-24T17:41:15.736Z"
   },
   {
    "duration": 692,
    "start_time": "2022-08-24T17:41:15.976Z"
   },
   {
    "duration": 608,
    "start_time": "2022-08-24T17:41:16.670Z"
   },
   {
    "duration": 563,
    "start_time": "2022-08-24T17:41:17.280Z"
   },
   {
    "duration": 456,
    "start_time": "2022-08-24T17:41:17.844Z"
   },
   {
    "duration": 128,
    "start_time": "2022-08-24T17:41:18.305Z"
   },
   {
    "duration": 33,
    "start_time": "2022-08-24T17:41:18.435Z"
   },
   {
    "duration": 3,
    "start_time": "2022-08-24T17:41:18.471Z"
   },
   {
    "duration": 433,
    "start_time": "2022-08-24T17:41:18.475Z"
   },
   {
    "duration": 479894,
    "start_time": "2022-08-24T17:41:18.910Z"
   },
   {
    "duration": 5197,
    "start_time": "2022-08-24T17:49:18.806Z"
   },
   {
    "duration": 16013,
    "start_time": "2022-08-24T17:49:24.006Z"
   },
   {
    "duration": 140,
    "start_time": "2022-08-24T17:49:40.021Z"
   },
   {
    "duration": 117,
    "start_time": "2022-08-24T17:49:40.163Z"
   },
   {
    "duration": 0,
    "start_time": "2022-08-24T17:49:40.282Z"
   },
   {
    "duration": 0,
    "start_time": "2022-08-24T17:49:40.284Z"
   },
   {
    "duration": 14029,
    "start_time": "2022-08-24T17:55:44.110Z"
   },
   {
    "duration": 28,
    "start_time": "2022-08-24T17:55:58.140Z"
   },
   {
    "duration": 20,
    "start_time": "2022-08-24T17:56:10.198Z"
   },
   {
    "duration": 28,
    "start_time": "2022-08-24T17:56:14.976Z"
   },
   {
    "duration": 24,
    "start_time": "2022-08-24T17:56:21.827Z"
   },
   {
    "duration": 133,
    "start_time": "2022-08-24T17:56:35.831Z"
   },
   {
    "duration": 57,
    "start_time": "2022-08-24T17:56:54.739Z"
   },
   {
    "duration": 8,
    "start_time": "2022-08-24T17:56:54.798Z"
   },
   {
    "duration": 201,
    "start_time": "2022-08-24T17:56:54.808Z"
   },
   {
    "duration": 578,
    "start_time": "2022-08-24T17:56:55.012Z"
   },
   {
    "duration": 600,
    "start_time": "2022-08-24T17:56:55.591Z"
   },
   {
    "duration": 121,
    "start_time": "2022-08-24T17:56:56.194Z"
   },
   {
    "duration": 0,
    "start_time": "2022-08-24T17:56:56.317Z"
   },
   {
    "duration": 0,
    "start_time": "2022-08-24T17:56:56.319Z"
   },
   {
    "duration": 0,
    "start_time": "2022-08-24T17:56:56.320Z"
   },
   {
    "duration": 0,
    "start_time": "2022-08-24T17:56:56.322Z"
   },
   {
    "duration": 0,
    "start_time": "2022-08-24T17:56:56.324Z"
   },
   {
    "duration": 0,
    "start_time": "2022-08-24T17:56:56.325Z"
   },
   {
    "duration": 0,
    "start_time": "2022-08-24T17:56:56.326Z"
   },
   {
    "duration": 0,
    "start_time": "2022-08-24T17:56:56.327Z"
   },
   {
    "duration": 0,
    "start_time": "2022-08-24T17:56:56.329Z"
   },
   {
    "duration": 517,
    "start_time": "2022-08-24T17:57:19.789Z"
   },
   {
    "duration": 490,
    "start_time": "2022-08-24T17:57:23.575Z"
   },
   {
    "duration": 119,
    "start_time": "2022-08-24T17:57:32.180Z"
   },
   {
    "duration": 28,
    "start_time": "2022-08-24T17:57:32.444Z"
   },
   {
    "duration": 5,
    "start_time": "2022-08-24T17:57:32.589Z"
   },
   {
    "duration": 559,
    "start_time": "2022-08-24T17:57:32.947Z"
   },
   {
    "duration": 483980,
    "start_time": "2022-08-24T17:57:33.508Z"
   },
   {
    "duration": 5207,
    "start_time": "2022-08-24T18:05:37.490Z"
   },
   {
    "duration": 14045,
    "start_time": "2022-08-24T18:05:42.699Z"
   },
   {
    "duration": 136,
    "start_time": "2022-08-24T18:05:56.747Z"
   },
   {
    "duration": 325,
    "start_time": "2022-08-24T18:05:56.885Z"
   },
   {
    "duration": 145,
    "start_time": "2022-08-24T18:05:57.212Z"
   },
   {
    "duration": 271,
    "start_time": "2022-08-24T18:08:31.939Z"
   },
   {
    "duration": 828,
    "start_time": "2022-08-24T18:09:30.982Z"
   }
  ],
  "kernelspec": {
   "display_name": "Python 3 (ipykernel)",
   "language": "python",
   "name": "python3"
  },
  "language_info": {
   "codemirror_mode": {
    "name": "ipython",
    "version": 3
   },
   "file_extension": ".py",
   "mimetype": "text/x-python",
   "name": "python",
   "nbconvert_exporter": "python",
   "pygments_lexer": "ipython3",
   "version": "3.9.5"
  },
  "toc": {
   "base_numbering": 1,
   "nav_menu": {},
   "number_sections": true,
   "sideBar": true,
   "skip_h1_title": true,
   "title_cell": "Содержание",
   "title_sidebar": "Contents",
   "toc_cell": true,
   "toc_position": {
    "height": "calc(100% - 180px)",
    "left": "10px",
    "top": "150px",
    "width": "172.438px"
   },
   "toc_section_display": true,
   "toc_window_display": true
  }
 },
 "nbformat": 4,
 "nbformat_minor": 2
}
